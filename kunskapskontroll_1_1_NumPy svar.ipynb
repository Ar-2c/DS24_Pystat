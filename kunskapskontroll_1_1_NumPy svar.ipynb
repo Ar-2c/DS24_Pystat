{
 "cells": [
  {
   "cell_type": "markdown",
   "id": "dacf74e6",
   "metadata": {},
   "source": [
    "# NumPy"
   ]
  },
  {
   "cell_type": "markdown",
   "id": "01b2bf34",
   "metadata": {},
   "source": [
    "Read the links: https://numpy.org/doc/stable/user/quickstart.html  and https://numpy.org/doc/stable/user/basics.broadcasting.html  before solving the exercises. "
   ]
  },
  {
   "cell_type": "code",
   "execution_count": 2,
   "id": "1f79e4a6",
   "metadata": {},
   "outputs": [],
   "source": [
    "# Svar.\n",
    "import numpy as np"
   ]
  },
  {
   "cell_type": "markdown",
   "id": "7dae6889",
   "metadata": {},
   "source": [
    "### Print out the dimension (number of axes), shape, size and the datatype of the matrix A."
   ]
  },
  {
   "cell_type": "code",
   "execution_count": 3,
   "id": "7b3678cd",
   "metadata": {},
   "outputs": [],
   "source": [
    "A = np.arange(1, 16).reshape(3,5)\n"
   ]
  },
  {
   "cell_type": "code",
   "execution_count": 4,
   "id": "31d39235",
   "metadata": {},
   "outputs": [
    {
     "name": "stdout",
     "output_type": "stream",
     "text": [
      "Dimension: 2\n",
      "Shape: (3, 5)\n",
      "Size: 15\n",
      "Data type: int32\n"
     ]
    }
   ],
   "source": [
    "# nedan tar vi fram information om axes, shape, size och datatype.\n",
    "print(\"Dimension:\", A.ndim) \n",
    "print(\"Shape:\", A.shape) \n",
    "print(\"Size:\", A.size)\n",
    "print(\"Data type:\", A.dtype)"
   ]
  },
  {
   "cell_type": "markdown",
   "id": "e56d2a96",
   "metadata": {},
   "source": [
    "### Do the following computations on the matrices B and C: \n",
    "* Elementwise subtraction. \n",
    "* Elementwise multiplication. \n",
    "* Matrix multiplication (by default you should use the @ operator)."
   ]
  },
  {
   "cell_type": "code",
   "execution_count": 5,
   "id": "a7053fbb",
   "metadata": {},
   "outputs": [
    {
     "name": "stdout",
     "output_type": "stream",
     "text": [
      "[[1 2 3]\n",
      " [4 5 6]\n",
      " [7 8 9]]\n",
      "\n",
      "[[2. 2. 2.]\n",
      " [2. 2. 2.]\n",
      " [2. 2. 2.]]\n"
     ]
    }
   ],
   "source": [
    "B = np.arange(1, 10).reshape(3, 3)\n",
    "C = np.ones((3, 3))*2\n",
    "\n",
    "print(B)\n",
    "print()\n",
    "print(C)"
   ]
  },
  {
   "cell_type": "code",
   "execution_count": 6,
   "id": "3cd794ae",
   "metadata": {},
   "outputs": [
    {
     "name": "stdout",
     "output_type": "stream",
     "text": [
      "[[-1.  0.  1.]\n",
      " [ 2.  3.  4.]\n",
      " [ 5.  6.  7.]]\n",
      "\n",
      "[[ 2.  4.  6.]\n",
      " [ 8. 10. 12.]\n",
      " [14. 16. 18.]]\n",
      "\n",
      "[[12. 12. 12.]\n",
      " [30. 30. 30.]\n",
      " [48. 48. 48.]]\n"
     ]
    }
   ],
   "source": [
    "# Elementwise subtraction.\n",
    "print(B - C)\n",
    "print ()\n",
    "\n",
    "# Elementwise multiplication.\n",
    "print(B * C)\n",
    "print ()\n",
    "\n",
    "# Matrix multiplication. \n",
    "print(B @ C)"
   ]
  },
  {
   "cell_type": "markdown",
   "id": "96030d53",
   "metadata": {},
   "source": [
    "### Do the following calculations on the matrix:\n",
    "* Exponentiate each number elementwise (use the np.exp function).\n",
    "\n",
    "* Calculate the minimum value in the whole matrix. \n",
    "* Calculcate the minimum value in each row. \n",
    "* Calculcate the minimum value in each column. \n",
    "\n",
    "\n",
    "* Find the index value for the minimum value in the whole matrix (hint: use np.argmin).\n",
    "* Find the index value for the minimum value in each row (hint: use np.argmin).\n",
    "\n",
    "\n",
    "* Calculate the sum for all elements.\n",
    "* Calculate the mean for each column. \n",
    "* Calculate the median for each column. "
   ]
  },
  {
   "cell_type": "code",
   "execution_count": 7,
   "id": "f8a9166b",
   "metadata": {},
   "outputs": [
    {
     "name": "stdout",
     "output_type": "stream",
     "text": [
      "[[1 2 3]\n",
      " [4 5 6]\n",
      " [7 8 9]]\n"
     ]
    }
   ],
   "source": [
    "B = np.arange(1, 10).reshape(3, 3)\n",
    "print(B)"
   ]
  },
  {
   "cell_type": "code",
   "execution_count": 8,
   "id": "f03f24f7",
   "metadata": {},
   "outputs": [
    {
     "name": "stdout",
     "output_type": "stream",
     "text": [
      "[[2.71828183e+00 7.38905610e+00 2.00855369e+01]\n",
      " [5.45981500e+01 1.48413159e+02 4.03428793e+02]\n",
      " [1.09663316e+03 2.98095799e+03 8.10308393e+03]]\n",
      "\n",
      "1\n",
      "\n",
      "[1 4 7]\n",
      "\n",
      "[1 2 3]\n",
      "\n",
      "0\n",
      "\n",
      "[0 0 0]\n",
      "\n",
      "45\n",
      "\n",
      "[4. 5. 6.]\n",
      "\n",
      "[4. 5. 6.]\n"
     ]
    }
   ],
   "source": [
    "# exponantiate each number elementwise by using (np.exp function). Dessa värden kan visas som felaktiga när man kör \"run all\" eftersom jag har samma namn på andra konstanter längre ned i koden.\n",
    "np.exp (B)\n",
    "print(np.exp(B))\n",
    "print()\n",
    "\n",
    "#Calculate the minimum value in the whole matrix.\n",
    "np.min(B)\n",
    "print(np.min(B))\n",
    "print ()\n",
    "\n",
    "#Minimum value for each row.\n",
    "B.min(axis=1)\n",
    "print(B.min(axis=1))\n",
    "print()\n",
    "\n",
    "#Minimum value for each column.\n",
    "B.min(axis=0)\n",
    "print(B.min(axis=0))\n",
    "print()\n",
    "\n",
    "#Find the index value for minimum value for the whole matrix.\n",
    "np.argmin (B)\n",
    "print(np.argmin(B))\n",
    "print()\n",
    "\n",
    "#Find the index value for minimum value for each row of the matrix.\n",
    "np.argmin(B.min(axis=1))\n",
    "print(np.argmin(B, axis=1))\n",
    "print()\n",
    "\n",
    "# Sum of all elements.\n",
    "np.sum(B)\n",
    "print(np.sum(B))\n",
    "print()\n",
    "\n",
    "#mean for each column.\n",
    "B.mean(axis=0)\n",
    "print(B.mean(axis=0))\n",
    "print()\n",
    "\n",
    "#median for each column.\n",
    "np.median(B, axis=0)\n",
    "print(np.median(B, axis=0))"
   ]
  },
  {
   "cell_type": "markdown",
   "id": "541eb7ba",
   "metadata": {},
   "source": [
    "### What does it mean when you provide fewer indices than axes when slicing? See example below."
   ]
  },
  {
   "cell_type": "code",
   "execution_count": 9,
   "id": "9c8abf56",
   "metadata": {},
   "outputs": [
    {
     "name": "stdout",
     "output_type": "stream",
     "text": [
      "[[ 1  2  3  4  5]\n",
      " [ 6  7  8  9 10]\n",
      " [11 12 13 14 15]]\n"
     ]
    }
   ],
   "source": [
    "print(A)"
   ]
  },
  {
   "cell_type": "code",
   "execution_count": 10,
   "id": "69415f7b",
   "metadata": {},
   "outputs": [
    {
     "data": {
      "text/plain": [
       "array([ 6,  7,  8,  9, 10])"
      ]
     },
     "execution_count": 10,
     "metadata": {},
     "output_type": "execute_result"
    }
   ],
   "source": [
    "A[1]"
   ]
  },
  {
   "cell_type": "markdown",
   "id": "6c53541b",
   "metadata": {},
   "source": [
    "**Answer:**"
   ]
  },
  {
   "cell_type": "code",
   "execution_count": 11,
   "id": "de01e120",
   "metadata": {},
   "outputs": [],
   "source": [
    "# i detta fall har vi bara angett en axel vilket ger oss hela mellersta raden enligt ovan. Ska vi ta första raden så sätter vi in 0 och 2 för den tredje. \n",
    "# Hade vi exempelvis angett A[1, 4] skulle vi fått rad och index som i detta fall blir 10."
   ]
  },
  {
   "cell_type": "markdown",
   "id": "6652d0c9",
   "metadata": {},
   "source": [
    "### Iterating over multidimensional arrays is done with respect to the first axis, so in the example below we iterate trough the rows. If you would like to iterate through the array *elementwise*, how would you do that?"
   ]
  },
  {
   "cell_type": "code",
   "execution_count": 12,
   "id": "9459864f",
   "metadata": {},
   "outputs": [
    {
     "data": {
      "text/plain": [
       "array([[ 1,  2,  3,  4,  5],\n",
       "       [ 6,  7,  8,  9, 10],\n",
       "       [11, 12, 13, 14, 15]])"
      ]
     },
     "execution_count": 12,
     "metadata": {},
     "output_type": "execute_result"
    }
   ],
   "source": [
    "A"
   ]
  },
  {
   "cell_type": "code",
   "execution_count": 13,
   "id": "a671bb5a",
   "metadata": {},
   "outputs": [
    {
     "name": "stdout",
     "output_type": "stream",
     "text": [
      "[1 2 3 4 5]\n",
      "[ 6  7  8  9 10]\n",
      "[11 12 13 14 15]\n"
     ]
    }
   ],
   "source": [
    "for i in A:\n",
    "    print(i)"
   ]
  },
  {
   "cell_type": "code",
   "execution_count": 14,
   "id": "f4e443a0",
   "metadata": {},
   "outputs": [
    {
     "name": "stdout",
     "output_type": "stream",
     "text": [
      "1\n",
      "2\n",
      "3\n",
      "4\n",
      "5\n",
      "6\n",
      "7\n",
      "8\n",
      "9\n",
      "10\n",
      "11\n",
      "12\n",
      "13\n",
      "14\n",
      "15\n"
     ]
    }
   ],
   "source": [
    "# nedan får vi ut arrayen elementvis.\n",
    "for i in A.flat:\n",
    "    print(i)"
   ]
  },
  {
   "cell_type": "markdown",
   "id": "608a2583",
   "metadata": {},
   "source": [
    "### Explain what the code below does. More specifically, b has three axes - what does this mean? "
   ]
  },
  {
   "cell_type": "code",
   "execution_count": 15,
   "id": "f8f9b26f",
   "metadata": {},
   "outputs": [
    {
     "name": "stdout",
     "output_type": "stream",
     "text": [
      "[ 0  1  2  3  4  5  6  7  8  9 10 11 12 13 14 15 16 17 18 19 20 21 22 23\n",
      " 24 25 26 27 28 29]\n",
      "\n",
      "[[[ 0  1  2  3  4]\n",
      "  [ 5  6  7  8  9]\n",
      "  [10 11 12 13 14]]\n",
      "\n",
      " [[15 16 17 18 19]\n",
      "  [20 21 22 23 24]\n",
      "  [25 26 27 28 29]]]\n"
     ]
    }
   ],
   "source": [
    "a = np.arange(30)\n",
    "b = a.reshape((2, 3, -1))\n",
    "print(a)\n",
    "print()\n",
    "\n",
    "print(b)"
   ]
  },
  {
   "cell_type": "code",
   "execution_count": 16,
   "id": "863a45df",
   "metadata": {},
   "outputs": [
    {
     "name": "stdout",
     "output_type": "stream",
     "text": [
      "[ 0  1  2  3  4  5  6  7  8  9 10 11 12 13 14 15 16 17 18 19 20 21 22 23\n",
      " 24 25 26 27 28 29]\n",
      "\n",
      "[[[ 0  1  2  3  4]\n",
      "  [ 5  6  7  8  9]\n",
      "  [10 11 12 13 14]]\n",
      "\n",
      " [[15 16 17 18 19]\n",
      "  [20 21 22 23 24]\n",
      "  [25 26 27 28 29]]]\n"
     ]
    }
   ],
   "source": [
    "# Detta ger oss en 1D Array från 0-29\n",
    "a = np.arange(30)\n",
    "\n",
    "# Denna kod ger oss samma siffror fast i en 3D-Array vilket man kan se om man kollar på (2, 3, -1) 2:an står för hur många block det delas upp i och 3:an för hur många rader. \n",
    "# -1 anger antal kolumner.\n",
    "b = a.reshape((2, 3, -1))\n",
    "print(a)\n",
    "\n",
    "# Mellanrum\n",
    "print()\n",
    "\n",
    "print(b)\n",
    "\n",
    "# Att b har tre axlar innebär alltså att vi har (2, 3, -1)"
   ]
  },
  {
   "cell_type": "markdown",
   "id": "ab5933d5",
   "metadata": {},
   "source": [
    "### Broadcasting\n",
    "**Read the following link about broadcasting: https://numpy.org/doc/stable/user/basics.broadcasting.html#basics-broadcasting**"
   ]
  },
  {
   "cell_type": "markdown",
   "id": "039805ba",
   "metadata": {},
   "source": [
    "# Remark on Broadcasting when doing Linear Algebra calculations in Python. "
   ]
  },
  {
   "cell_type": "markdown",
   "id": "c4bcc147",
   "metadata": {},
   "source": [
    "### From the mathematical rules of matrix addition, the operation below (m1 + m2) does not make sense. The reason is that matrix addition requires two matrices of the same size. In Python however, it works due to broadcasting rules in NumPy. So you must be careful when doing Linear Algebra calculations in Python since they do not follow the \"mathematical rules\". This can however easily be handled by doing some simple programming, for example validating that two matrices have the same shape is easy if you for instance want to add two matrices. "
   ]
  },
  {
   "cell_type": "code",
   "execution_count": 17,
   "id": "1fd46778",
   "metadata": {},
   "outputs": [
    {
     "name": "stdout",
     "output_type": "stream",
     "text": [
      "[[2 3]\n",
      " [4 5]]\n"
     ]
    }
   ],
   "source": [
    "m1 = np.array([[1, 2], [3, 4]])\n",
    "m2 = np.array([1, 1])\n",
    "print(m1 + m2)"
   ]
  },
  {
   "cell_type": "markdown",
   "id": "047d6576",
   "metadata": {},
   "source": [
    "### The example below would also not be allowed if following the \"mathematical rules\" in Linear Algebra. But it works due to broadcasting in NumPy. "
   ]
  },
  {
   "cell_type": "code",
   "execution_count": 18,
   "id": "5e6ef2e4",
   "metadata": {},
   "outputs": [
    {
     "name": "stdout",
     "output_type": "stream",
     "text": [
      "[2 3 4]\n"
     ]
    }
   ],
   "source": [
    "v1 = np.array([1, 2, 3])\n",
    "print(v1 + 1)"
   ]
  },
  {
   "cell_type": "code",
   "execution_count": 19,
   "id": "e2cbae26",
   "metadata": {},
   "outputs": [
    {
     "name": "stdout",
     "output_type": "stream",
     "text": [
      "[[1 2]\n",
      " [3 4]]\n",
      "[2 2]\n"
     ]
    }
   ],
   "source": [
    "A = np.arange(1, 5).reshape(2,2)\n",
    "print(A)\n",
    "\n",
    "b = np.array([2, 2])\n",
    "print(b)"
   ]
  },
  {
   "cell_type": "markdown",
   "id": "722fd5cd",
   "metadata": {},
   "source": [
    "# Vector- and matrix algebra Exercises"
   ]
  },
  {
   "cell_type": "markdown",
   "id": "b63a3081-d976-4d9f-bfd0-a63917e79f7d",
   "metadata": {},
   "source": [
    "**Now you are going to create a function that can be reused every time you add or multiply matrices. The function is created so that we do the addition and multiplication according to the rules of vector- and matrix algebra.**\n",
    "\n",
    "**Create a function \"add_mult_matrices\" that takes two matrices as input arguments (validate that the input are of the type numpy.ndarray by using the isinstance function), a third argument that is either 'add' or 'multiply' that specifies if you want to add or multiply the matrices (validate that the third argument is either 'add' or 'multiply'). When doing matrix addition, validate that the matrices have the same size. When doing matrix multiplication, validate that the sizes conform (i.e. number of columns in the first matrix is equal to the number of rows in the second matrix).**"
   ]
  },
  {
   "cell_type": "code",
   "execution_count": 20,
   "id": "3506f977-ac0a-473f-85bc-eec9f35dc498",
   "metadata": {},
   "outputs": [
    {
     "name": "stdout",
     "output_type": "stream",
     "text": [
      "[[19 22]\n",
      " [43 50]]\n",
      "\n",
      "[[19 22]\n",
      " [43 50]]\n"
     ]
    }
   ],
   "source": [
    "def add_mult_matrices(matris1, matris2, operation):\n",
    "    # kontrollera att det är \"np.ndarray\"\n",
    "    if not isinstance(matris1, np.ndarray) or not isinstance(matris2, np.ndarray):\n",
    "        return \"fel: båda värden måste vara numpy arrays\"\n",
    "    \n",
    "    # här ser vi till att den enbart går att sätta in add eller multiply\n",
    "    if operation not in [\"add\", \"multiply\"]:\n",
    "        return \"fel: enbart add eller multiply gäller.\"\n",
    "    \n",
    "    # kontroll för att matriserna har samma storlek i additionen\n",
    "    if operation == \"add\":\n",
    "        if matris1.shape != matris2.shape:\n",
    "            return \"fel: det måste vara samma form för addition.\"\n",
    "        return matris1 + matris2\n",
    "    \n",
    "    # kontroll för att matriserna har samma storlek i multiplikationen.\n",
    "    if operation == \"multiply\":\n",
    "        if matris1.shape[1] != matris2.shape[0]: # antal kolumner [1] i den första matrisen och antal rader [0] i matris2 behöver vara samma. \n",
    "            return \"fel: antal kolumner i 1 måste vara lika med rader i 2.\"\n",
    "        return np.dot(matris1, matris2)\n",
    "    \n",
    "    # test av koden.\n",
    "m1 = np.array([[1, 2], [3, 4]])\n",
    "m2 = np.array([[5, 6], [7, 8]]) # här kan man exempelvis sätta in ytterligare värden för att få felmeddelandet \"antal nummer i matrix1 måste vara lika med rader i matrix2\"\n",
    "result = add_mult_matrices(m1, m2, 'multiply') # här kan man skriva 'add' eller 'multiply' beroende på önskad operation. Vid fel får man meddelandet \"fel: enbart add eller multiply\"\n",
    "print(result)\n",
    "print()\n",
    "print(m1 @ m2) # för att säkerställa att vi får samma svar med exepelvis multiplikation.\n"
   ]
  },
  {
   "cell_type": "markdown",
   "id": "8dad82d0-2359-4dff-8f5b-a57d3e34103c",
   "metadata": {},
   "source": [
    "### Solve all the exercises in chapter 10.1 in the book \"Matematik för yrkeshögskolan\". "
   ]
  },
  {
   "cell_type": "code",
   "execution_count": 21,
   "id": "89df88af-3668-4d98-a0a4-e6d92eea0f89",
   "metadata": {},
   "outputs": [
    {
     "name": "stdout",
     "output_type": "stream",
     "text": [
      "[4 3]\n",
      "dimension: (2,)\n",
      "[20 15]\n",
      "[12  9]\n",
      "[32 24]\n",
      "[32 24]\n",
      "[12  9]\n",
      "[[4]\n",
      " [3]]\n",
      "ny dimension: (2, 1)\n",
      "ej definierat eftersom dimensionerna inte matchar\n",
      "5.0\n"
     ]
    }
   ],
   "source": [
    "# Uppgift 10.1.1. Definiera vektorn x enligt nedan.\n",
    "# x = (4, 3)\n",
    "x = np.array([4, 3])\n",
    "print(x)\n",
    "\n",
    "# (a) Vilken dimension har vektorn x?\n",
    "print(\"dimension:\", x.shape)\n",
    "\n",
    "# (b) Beräkna 5x\n",
    "print(5 * x)\n",
    "\n",
    "# (c) Beräkna 3x\n",
    "print(3 * x)\n",
    "\n",
    "# (d) Beräkna 5x + 3x\n",
    "print((5 * x) + (3 * x))\n",
    "\n",
    "# (e) Beräkna 8x\n",
    "print(8 * x)\n",
    "\n",
    "# (f) Beräkna 4x - x\n",
    "\n",
    "print((4 * x) - x)\n",
    "\n",
    "# (g) Beräkna x^T, vilken blir den nya dimensionen efter att transponeringen utförts? \n",
    "x = x.reshape((-1, 1))\n",
    "print(x)\n",
    "print(\"ny dimension:\", x.shape)\n",
    "\n",
    "# (h) är x + x^T definierat\n",
    "x = np.array([[4], [3]])\n",
    "\n",
    "# Transponera x^T (som blir en radvektor)\n",
    "x_T = x.T\n",
    "# Detta är inte definierat så jag anväder nedanstående kod för att visa det.\n",
    "if x_T.shape == x.shape:\n",
    "    result = x_T + x\n",
    "    print(result)\n",
    "else:\n",
    "    print('ej definierat eftersom dimensionerna inte matchar')\n",
    "\n",
    "# (i) Beräkna ||x||\n",
    "norm_x = np.linalg.norm(x)\n",
    "print(norm_x)\n"
   ]
  },
  {
   "cell_type": "code",
   "execution_count": 22,
   "id": "ea00061e",
   "metadata": {},
   "outputs": [
    {
     "name": "stdout",
     "output_type": "stream",
     "text": [
      "[[ 3]\n",
      " [ 7]\n",
      " [ 0]\n",
      " [11]]\n",
      "\n",
      "dimension: (4, 1)\n",
      "\n",
      "[[ 6]\n",
      " [14]\n",
      " [ 0]\n",
      " [22]]\n",
      "\n",
      "[[21]\n",
      " [49]\n",
      " [ 0]\n",
      " [77]]\n",
      "\n",
      "[[ 6]\n",
      " [14]\n",
      " [ 0]\n",
      " [22]]\n",
      "\n",
      "dimension: (4,)\n",
      "\n",
      "13.379088160259652\n"
     ]
    }
   ],
   "source": [
    "# uppgift 10.1.2. Definiera vektorn v enligt nedan.\n",
    "v = np.array([3, 7, 0, 11])\n",
    "v = v.reshape((-1, 1))\n",
    "print(v)\n",
    "print()\n",
    "# (a) vilken dimension har vektorn\n",
    "print(\"dimension:\", v.shape)\n",
    "print()\n",
    "# (b) beräkna 2v\n",
    "\n",
    "print(2 * v)\n",
    "print()\n",
    "\n",
    "# (c) beräkna 5v + 2v\n",
    "\n",
    "print((5 * v) + (2 * v))\n",
    "print()\n",
    "\n",
    "# (d) beräkna 4v - 2v\n",
    "\n",
    "print((4 * v) - (2 * v))\n",
    "print()\n",
    "\n",
    "# (e) beräkna v^T, vilken blir den nya dimensionen efter att transponeringen utförts?\n",
    "\n",
    "v = np.array([3, 7, 0, 11])\n",
    "print(\"dimension:\", v.shape)\n",
    "print()\n",
    "\n",
    "# (f) beräkna ||v||\n",
    "norm_v = np.linalg.norm(v)\n",
    "print(norm_v)\n"
   ]
  },
  {
   "cell_type": "code",
   "execution_count": 23,
   "id": "9ccea312",
   "metadata": {},
   "outputs": [
    {
     "name": "stdout",
     "output_type": "stream",
     "text": [
      "[4 3 1 5]\n",
      "[2 3 1 1]\n",
      "\n",
      "7.14142842854285\n",
      "\n",
      "4.47213595499958\n"
     ]
    }
   ],
   "source": [
    "# uppgift 10.1.3. Definiera vektorerna v1 = (4, 3, 1, 5) och v2 = (2, 3, 1, 1)\n",
    "v1 = np.array([4, 3, 1, 5]) \n",
    "v2 = np.array([2, 3, 1, 1])\n",
    "print(v1)\n",
    "print(v2)\n",
    "print()\n",
    "\n",
    "# (a) beräkna ||v1||\n",
    "\n",
    "norm_v1 = np.linalg.norm(v1)\n",
    "print(norm_v1)\n",
    "print()\n",
    "\n",
    "# (b) beräkna ||v1 - v2||\n",
    "norm_diff = np.linalg.norm(v1 - v2)\n",
    "print(norm_diff)\n",
    "\n"
   ]
  },
  {
   "cell_type": "markdown",
   "id": "75c98984-1f88-4df1-b850-d2466de444a5",
   "metadata": {},
   "source": [
    "### Solve all the exercises, except 10.2.4, in chapter 10.2 in the book \"Matematik för yrkeshögskolan\". "
   ]
  },
  {
   "cell_type": "code",
   "execution_count": 24,
   "id": "65371610-16e1-48b2-b7fb-65e49002608a",
   "metadata": {},
   "outputs": [
    {
     "name": "stdout",
     "output_type": "stream",
     "text": [
      "[[ 4  2 -2]\n",
      " [ 2 -2  2]]\n",
      "\n",
      "[[ 0 -4  3]\n",
      " [ 0 -2 -4]]\n",
      "\n",
      "[[ 1  4]\n",
      " [ 2 -1]]\n",
      "\n",
      "[[3 2]\n",
      " [2 3]]\n",
      "\n",
      "[[ 9 12]\n",
      " [12  9]]\n",
      "\n",
      "[[-4 -4]\n",
      " [-4 -4]]\n",
      "\n",
      "ej definierat eftersom dimensionerna inte matchar\n",
      "\n",
      "ej definierat eftersom dimensionerna inte matchar\n",
      "\n",
      "[[11 10]\n",
      " [10 11]]\n",
      "\n",
      "[[  8 -10  -3]\n",
      " [ 10  -8   0]]\n",
      "\n",
      "[[1 2]\n",
      " [2 1]]\n",
      "\n",
      "[[5 2]\n",
      " [7 4]]\n",
      "\n"
     ]
    }
   ],
   "source": [
    "# Uppgift 10.2.1.\n",
    "\n",
    "A = np.array([2, 1, -1, 1, -1, 1]).reshape(2,3)\n",
    "B = np.array([4, -2, 1, 2, -4, -2]).reshape(2,3)\n",
    "C = np.array([1, 2, 2, 1]).reshape(2, 2)\n",
    "D = np.array([3, 4, 4, 3]).reshape(2, 2)\n",
    "E = np.array([1, 2]).reshape(-1, 1)\n",
    "I = np.array([1, 0, 0, 1]).reshape(2, 2)\n",
    "\n",
    "\n",
    "# (a) 2A\n",
    "print(2 * A)\n",
    "print()\n",
    "\n",
    "# (b) B - 2A\n",
    "print(B - 2 * A)\n",
    "print()\n",
    "\n",
    "# (c) 3C - 2E\n",
    "print( 3 * C - 2 * E )\n",
    "print()\n",
    "\n",
    "# (d) 2D - 3C\n",
    "print(2 * D - 3 * C)\n",
    "print()\n",
    "\n",
    "# (e) D^T + 2D\n",
    "D_T = D.T\n",
    "\n",
    "print(2*D + D_T)\n",
    "print()\n",
    "\n",
    "# (f) 2C^T - 2D^T\n",
    "C_T = C.T\n",
    "D_T = D.T\n",
    "\n",
    "print(2*C_T - 2*D_T)\n",
    "print()\n",
    "\n",
    "# (g) A^T - B\n",
    "# Detta är inte definierat så jag anväder nedanstående kod för att visa det.\n",
    "A_T = A.T\n",
    "\n",
    "if A_T.shape == B.shape:\n",
    "    result = A_T - B\n",
    "    print(result)\n",
    "else:\n",
    "    print('ej definierat eftersom dimensionerna inte matchar')\n",
    "print()\n",
    "\n",
    "# (h) AC\n",
    "# Ej definierat, samma kod som ovanstående.\n",
    "if A.shape == C.shape:\n",
    "    result = A * C\n",
    "    print(result)\n",
    "else:\n",
    "    print('ej definierat eftersom dimensionerna inte matchar')\n",
    "print()\n",
    "\n",
    "# (i) CD\n",
    "print(C @ D)\n",
    "print()\n",
    "\n",
    "\n",
    "# (j) CB\n",
    "print (C @ B)\n",
    "print()\n",
    "\n",
    "# (k) CI\n",
    "print(C @ I)\n",
    "print()\n",
    "\n",
    "# (l) AB^T\n",
    "B_T = B.T\n",
    "\n",
    "print(A @ B.T)\n",
    "print()\n"
   ]
  },
  {
   "cell_type": "code",
   "execution_count": 25,
   "id": "35c7d9b3",
   "metadata": {},
   "outputs": [
    {
     "name": "stdout",
     "output_type": "stream",
     "text": [
      "[[2 3 4]\n",
      " [5 4 1]]\n",
      "\n",
      "Dimension: 2\n",
      "Shape: (2, 3)\n",
      "Size: 6\n",
      "Data type: int32\n",
      "\n",
      "[[29 26]\n",
      " [26 42]]\n",
      "\n"
     ]
    }
   ],
   "source": [
    "# Uppgift 10.2.2. Definiera matrisen och beräkna AA^T\n",
    "A = np.array([2, 3, 4, 5, 4, 1]).reshape(2,3)\n",
    "print(A)\n",
    "print()\n",
    "\n",
    "# Definieras\n",
    "print(\"Dimension:\", A.ndim)\n",
    "print(\"Shape:\", A.shape)\n",
    "print(\"Size:\", A.size)\n",
    "print(\"Data type:\", A.dtype)\n",
    "print()\n",
    "\n",
    "# Beräkna AA^T\n",
    "A_T = A.T\n",
    "\n",
    "print(A @ A.T)\n",
    "print()"
   ]
  },
  {
   "cell_type": "code",
   "execution_count": 26,
   "id": "f45eb1fe",
   "metadata": {},
   "outputs": [
    {
     "name": "stdout",
     "output_type": "stream",
     "text": [
      "[[1 2]\n",
      " [2 4]]\n",
      "\n",
      "[[2 1]\n",
      " [1 3]]\n",
      "\n",
      "[[4 3]\n",
      " [0 2]]\n",
      "\n",
      "[[ 4  7]\n",
      " [ 8 14]]\n",
      "\n",
      "[[ 4  7]\n",
      " [ 8 14]]\n",
      "\n"
     ]
    }
   ],
   "source": [
    "# Uppgift 10.2.3. Definiera matriserna.\n",
    "A = np.array([1, 2, 2, 4]).reshape(2,2)\n",
    "B = np.array([2, 1, 1, 3]).reshape(2,2)\n",
    "C = np.array([4, 3, 0, 2]).reshape(2,2)\n",
    "print(A)\n",
    "print()\n",
    "print(B)\n",
    "print()\n",
    "print(C)\n",
    "print()\n",
    "# verifiera att AB = AC men att B != C. Vad vi vill demonstrera med detta exemplet är att vi har definierat ett nytt matematiskt objekt (matriser i detta fall) och att de \"vanliga reglerna\"\n",
    "# för aritmetik som vi lärt oss från grundskolan inte nödvändigtvis gäller även här.\n",
    "\n",
    "print(A @ B)\n",
    "print()\n",
    "print(A @ C)\n",
    "print()\n",
    "# Vi ser tydligt att B != C samtidigt som A*B = A*C. Vet inte om detta är tillräckligt med bevis."
   ]
  },
  {
   "cell_type": "markdown",
   "id": "6a4a524f",
   "metadata": {},
   "source": [
    "### Copies and Views\n",
    "Read the following link: https://numpy.org/doc/stable/user/basics.copies.html"
   ]
  },
  {
   "cell_type": "markdown",
   "id": "6cbbeaf7",
   "metadata": {},
   "source": [
    "**Basic indexing creates a view, How can you check if v1 and v2 is a view or copy? If you change the last element in v2 to 123, will the last element in v1 be changed? Why?**"
   ]
  },
  {
   "cell_type": "code",
   "execution_count": 93,
   "id": "5b9ef4df",
   "metadata": {},
   "outputs": [
    {
     "name": "stdout",
     "output_type": "stream",
     "text": [
      "[0 1 2 3]\n",
      "[2 3]\n",
      "[0 1 2 3]\n"
     ]
    }
   ],
   "source": [
    "v1 = np.arange(4)\n",
    "v2 = v1[-2:]\n",
    "v3 = v1.copy() # Vi lägger till v3 för att testa hur det skulle se ut med en copy.\n",
    "print(v1)\n",
    "print(v2)\n",
    "print(v3)\n",
    "\n",
    "# print(v3)"
   ]
  },
  {
   "cell_type": "code",
   "execution_count": 94,
   "id": "d2440489",
   "metadata": {},
   "outputs": [
    {
     "name": "stdout",
     "output_type": "stream",
     "text": [
      "None\n",
      "[0 1 2 3]\n",
      "None\n"
     ]
    }
   ],
   "source": [
    "# The base attribute of a view returns the original array while it returns None for a copy.\n",
    "print(v1.base)\n",
    "print(v2.base)\n",
    "print(v3.base) # tillagt av mig"
   ]
  },
  {
   "cell_type": "code",
   "execution_count": 95,
   "id": "c8752807",
   "metadata": {},
   "outputs": [
    {
     "name": "stdout",
     "output_type": "stream",
     "text": [
      "[  0   1   2 123]\n",
      "[  2 123]\n",
      "[  0   1   2 123]\n"
     ]
    }
   ],
   "source": [
    "# The last element in v1 will be changed aswell since v2 is a view, meaning they share the same data buffer.\n",
    "v2[-1] = 123\n",
    "v3[-1] = 123\n",
    "print(v1)\n",
    "print(v2)\n",
    "print(v3) # tillagt av mig"
   ]
  },
  {
   "cell_type": "code",
   "execution_count": 96,
   "id": "3dd68221",
   "metadata": {},
   "outputs": [],
   "source": [
    "# Osäker på om jag har förstått denna fråga rätt men här kommer ett försök på ett svar. Anledningen till att v1 också ändras när man ändrar v2 är att de delar samma data precis som det står skrivet i uppgiften.\n",
    "# Det kan man även se om man testar med andra värden.\n",
    "# Vi kan också se skillnaden mellan view och copy. v3 är det jag har lagt till för att vi ska kunna se hur view och copy skiljer sig. \n",
    "# vi kan även se ovan att \"none\" returneras för v3 eftersom det är en copy."
   ]
  }
 ],
 "metadata": {
  "kernelspec": {
   "display_name": "base",
   "language": "python",
   "name": "python3"
  },
  "language_info": {
   "codemirror_mode": {
    "name": "ipython",
    "version": 3
   },
   "file_extension": ".py",
   "mimetype": "text/x-python",
   "name": "python",
   "nbconvert_exporter": "python",
   "pygments_lexer": "ipython3",
   "version": "3.12.4"
  }
 },
 "nbformat": 4,
 "nbformat_minor": 5
}
